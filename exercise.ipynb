{
	"cells": [{
			"cell_type": "markdown",
			"metadata": {},
			"source": [
				"<!DOCTYPE html>\n",
				"<html>\n",
				"<body>\n",
				"<div align=\"center\">\n",
				"<h3>Prepared by Asif Bhat</h3>\n",
				"    \n",
				"<h1>Pandas - Series & Dataframes</h1>\n",
				"\n",
				"\n",
				"</div>\n",
				"</body>\n",
				"</html>"
			]
		},
		{
			"cell_type": "code",
			"execution_count": 55,
			"metadata": {},
			"outputs": [],
			"source": [
				"import numpy as np\n",
				"import pandas as pd\n",
				"import matplotlib.pyplot as plt\n",
				"import glob\n",
				"import re\n",
				"import math"
			]
		},
		{
			"cell_type": "code",
			"execution_count": 54,
			"metadata": {},
			"outputs": [],
			"source": [
				"import warnings\n",
				"warnings.filterwarnings(\"ignore\")"
			]
		},
		{
			"cell_type": "markdown",
			"metadata": {},
			"source": [
				"# Series"
			]
		},
		{
			"cell_type": "markdown",
			"metadata": {},
			"source": [
				"## Create Series"
			]
		}
	]
}
