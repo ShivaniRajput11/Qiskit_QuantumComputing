{
 "cells": [
  {
   "cell_type": "markdown",
   "metadata": {},
   "source": [
    "<!DOCTYPE html>\n",
    "<html>\n",
    "<body>\n",
    "<div align=\"center\">\n",
    "<h3>Prepared by Shivani Rajput</h3>\n",
    "    \n",
    "<h1>exercise - Variables</h1>\n",
    "\n",
    "\n",
    "</div>\n",
    "</body>\n",
    "</html>"
   ]
  },
